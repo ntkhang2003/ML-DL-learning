{
  "nbformat": 4,
  "nbformat_minor": 0,
  "metadata": {
    "colab": {
      "name": "Copy of Bài tập KNN.ipynb",
      "provenance": [],
      "collapsed_sections": [],
      "include_colab_link": true
    },
    "kernelspec": {
      "name": "python3",
      "display_name": "Python 3"
    },
    "language_info": {
      "name": "python"
    }
  },
  "cells": [
    {
      "cell_type": "markdown",
      "metadata": {
        "id": "view-in-github",
        "colab_type": "text"
      },
      "source": [
        "<a href=\"https://colab.research.google.com/github/ntkhang2003/ML-DL-learning/blob/main/Copy_of_B%C3%A0i_t%E1%BA%ADp_KNN.ipynb\" target=\"_parent\"><img src=\"https://colab.research.google.com/assets/colab-badge.svg\" alt=\"Open In Colab\"/></a>"
      ]
    },
    {
      "cell_type": "markdown",
      "source": [
        "# Thuật toán KNN"
      ],
      "metadata": {
        "id": "k5wvOwvnm7iN"
      }
    },
    {
      "cell_type": "markdown",
      "source": [
        ""
      ],
      "metadata": {
        "id": "6yt_XeN0nBpD"
      }
    },
    {
      "cell_type": "code",
      "source": [
        "import pandas as pd\n",
        "import numpy as np\n",
        "import sklearn\n",
        "from sklearn import datasets\n",
        "from sklearn.model_selection import train_test_split"
      ],
      "metadata": {
        "id": "r0kgJHb4m64k"
      },
      "execution_count": null,
      "outputs": []
    },
    {
      "cell_type": "markdown",
      "source": [
        "![1_0Pqqx6wGDfFm_7GLebg2Hw.png](data:image/png;base64,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)\n",
        "\n"
      ],
      "metadata": {
        "id": "kO1mUbW_nIJ2"
      }
    },
    {
      "cell_type": "markdown",
      "source": [
        "- x_train : kích thước n x d. Với n là số mẫu dữ liệu, và d là số đặc trưng."
      ],
      "metadata": {
        "id": "OhhuUcmUocV7"
      }
    },
    {
      "cell_type": "code",
      "source": [
        "def knn(x_train, x_test, k):\n",
        "    \"\"\"\n",
        "    Finds the k nearest neighbors of x_test in x_train.\n",
        "    Input:\n",
        "    x_train = n x d matrix. n=rows and d=features\n",
        "    x_test = m x d matrix. m=rows and d=features (same amount of features as xTrain)\n",
        "    k = number of nearest neighbors to be found\n",
        "    Output:\n",
        "    dists = distances between x_train/x_test points. Size of n x m\n",
        "    indices = kxm matrix with indices of yTrain labels\n",
        "    \"\"\"\n",
        "    \n",
        "    ''' \n",
        "    Tính khoảng cách giữa mọi điểm trong tập train với mọi điểm trong tập ta muốn dự đoán\n",
        "    Như hình minh họa trên thì: Với mỗi điểm dữ liệu trong tập dự đoán, ta sẽ tính khoảng cách giữa \n",
        "    nó với mọi điểm trong tập huấn luyện.\n",
        "    '''\n",
        "    #### Như vậy ta có distances là 1 ma trận có kích thước m x n\n",
        "\n",
        "    #### Có các loại công thức tính khoảng cách như\n",
        "    #### Euclid - là công thức tính quen thuộc : căn bậc 2 của tổng của bình phương các hiệu (d đặc trưng -> d hiệu)\n",
        "    ####  sqrt  ((a1 - a2) ^2+ (b1 - b2)^2 + (c1 - c2)^2 + ...) \n",
        "    #### Code tính khoảng cách tại đây\n",
        "    distances = np.sum(x_test**2,axis=1) -2 * x_train@x_test.T + np.sum(x_train**2,axis=1)[:, np.newaxis]\n",
        "\n",
        "    #### sort lại khoảng cách lấy ra vị trí : indices\n",
        "    indices     = np.argsort(distances, 0)\n",
        "    distances = np.sort(distances,0)       \n",
        "    \n",
        "    #### Chỉ trả về k khoảng cách cao nhất\n",
        "    return indices[0:k, : ], distances[0:k, : ]"
      ],
      "metadata": {
        "id": "tjD-IZCpnFbj"
      },
      "execution_count": null,
      "outputs": []
    },
    {
      "cell_type": "code",
      "source": [
        "def knn_predictions(x_train,y_train,x_test,k=3):\n",
        "    \"\"\"\n",
        "    Input:\n",
        "    x_train = n x d matrix. n=rows and d=features\n",
        "    y_train = n x 1 array. n=rows with label value\n",
        "    x_test = m x d matrix. m=rows and d=features\n",
        "    k = number of nearest neighbors to be found\n",
        "    Output:\n",
        "    predictions = predicted labels, ie preds(i) is the predicted label of x_test(i,:)\n",
        "    \"\"\"\n",
        "    indices, distances = knn(x_train,x_test,k)\n",
        "    yTrain = y_train.flatten()\n",
        "    rows, columns = indices.shape\n",
        "    predictions = list()\n",
        "    for j in range(columns):\n",
        "        temp = list()\n",
        "        for i in range(rows):\n",
        "            cell = indices[i][j]\n",
        "            temp.append(y_train[cell])\n",
        "        predictions.append(max(temp,key=temp.count)) \n",
        "    predictions=np.array(predictions)\n",
        "    return predictions"
      ],
      "metadata": {
        "id": "xu9tc-pirLdk"
      },
      "execution_count": null,
      "outputs": []
    },
    {
      "cell_type": "code",
      "source": [
        "iris_data = datasets.load_iris()"
      ],
      "metadata": {
        "id": "0kLlX2Ynrl-G"
      },
      "execution_count": null,
      "outputs": []
    },
    {
      "cell_type": "code",
      "source": [
        "X = iris_data.data\n",
        "y = iris_data.target\n",
        "X.shape,y.shape"
      ],
      "metadata": {
        "colab": {
          "base_uri": "https://localhost:8080/"
        },
        "id": "ZolJkKvsr-Rw",
        "outputId": "98a87167-3633-42c1-ba0a-ada7f2d86643"
      },
      "execution_count": null,
      "outputs": [
        {
          "output_type": "execute_result",
          "data": {
            "text/plain": [
              "((150, 4), (150,))"
            ]
          },
          "metadata": {},
          "execution_count": 5
        }
      ]
    },
    {
      "cell_type": "code",
      "source": [
        "x_train, x_test, y_train, y_test = train_test_split(X,y, test_size=0.3)"
      ],
      "metadata": {
        "id": "QMv6rT1WrgrB"
      },
      "execution_count": null,
      "outputs": []
    },
    {
      "cell_type": "code",
      "source": [
        "from sklearn.metrics import accuracy_score\n",
        "from sklearn import metrics\n",
        "import matplotlib.pyplot as plt \n",
        "\n",
        "#### will first check which is the best k\n",
        "#### k là một hyperparameter nên việc lựa chọn k thế nào cho tốt nhất ta không biết\n",
        "#### Vì vậy ta cần dò thử k để chọn ra giá trị tốt nhất\n",
        "\n",
        "Ks = 15\n",
        "mean_acc = np.zeros((Ks-1))\n",
        "std_acc     = np.zeros((Ks-1))\n",
        "\n",
        "for n in range(1,Ks):    \n",
        "\n",
        "    y_pred = knn_predictions(x_train,y_train,x_test,n)\n",
        "    mean_acc[n-1] = metrics.accuracy_score(y_test, y_pred)    \n",
        "    std_acc[n-1]=np.std(y_pred == y_test)/np.sqrt(y_pred.shape[0])\n"
      ],
      "metadata": {
        "id": "FGD5-CEtq1VC"
      },
      "execution_count": null,
      "outputs": []
    },
    {
      "cell_type": "code",
      "source": [
        "print( \"The best accuracy was:\", np.round(mean_acc.max()*100,2), \"% with k=\", mean_acc.argmax()+1) "
      ],
      "metadata": {
        "colab": {
          "base_uri": "https://localhost:8080/"
        },
        "id": "IIxTnrYCq1o9",
        "outputId": "60235be5-2079-4a34-f6b9-2310f13a38e4"
      },
      "execution_count": null,
      "outputs": [
        {
          "output_type": "stream",
          "name": "stdout",
          "text": [
            "The best accuracy was: 97.78 % with k= 3\n"
          ]
        }
      ]
    },
    {
      "cell_type": "code",
      "source": [
        ""
      ],
      "metadata": {
        "id": "B9uOwcymshvy"
      },
      "execution_count": null,
      "outputs": []
    }
  ]
}