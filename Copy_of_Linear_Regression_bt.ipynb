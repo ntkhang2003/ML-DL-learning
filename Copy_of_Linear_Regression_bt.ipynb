{
  "cells": [
    {
      "cell_type": "markdown",
      "metadata": {
        "id": "view-in-github",
        "colab_type": "text"
      },
      "source": [
        "<a href=\"https://colab.research.google.com/github/ntkhang2003/ML-DL-learning/blob/main/Copy_of_Linear_Regression_bt.ipynb\" target=\"_parent\"><img src=\"https://colab.research.google.com/assets/colab-badge.svg\" alt=\"Open In Colab\"/></a>"
      ]
    },
    {
      "cell_type": "markdown",
      "source": [
        "# 0. Tải dữ liệu từ kaggle lên colab"
      ],
      "metadata": {
        "id": "eVlwDG8c-5IE"
      }
    },
    {
      "cell_type": "markdown",
      "source": [
        "## 0.1 Tạo tài khoản trên kaggle \n",
        "Tạo tài khoản của các bạn tại đường dẫn: https://www.kaggle.com/account/login, kaggle cho phép sử dụng gmail nên các bạn hãy dùng mail trường cho dễ quản lý."
      ],
      "metadata": {
        "id": "4lLJzg-u-82i"
      }
    },
    {
      "cell_type": "markdown",
      "source": [
        "## 0.2 API Credentials:\n",
        "Để tải dữ liệu từ Kaggle vào Google Colab, các bạn có thể bỏ bước trung gian là qua máy local các bạn. Kaggle hỗ trợ điều này bằng API Credentials, giúp xác thực máy ảo của Colab được phép truy cập dữ liệu từ Kaggle"
      ],
      "metadata": {
        "id": "EO4NZu1r_bqb"
      }
    },
    {
      "cell_type": "markdown",
      "source": [
        "- B1: Nhấn biểu tượng avatar bên phải trên cùng -> nhấn vào \"Your profile\".\n",
        "- B2: Tại thanh bar đầu tiên, các bạn vào mục \"Account\".\n",
        "- B3: Tìm API của Kaggle và tạo token (\"kaggle.json\") tại \"Create new token\"."
      ],
      "metadata": {
        "id": "c0_ziP0X_9d6"
      }
    },
    {
      "cell_type": "markdown",
      "source": [
        "Các bạn tải lên máy ảo của Colab file \"kaggle.json\""
      ],
      "metadata": {
        "id": "d1x-tuaoAvV5"
      }
    },
    {
      "cell_type": "markdown",
      "source": [
        "Các bạn chạy các dòng lệnh bên dưới là đã xong quá trình cài kaggle"
      ],
      "metadata": {
        "id": "sXzbeIHIBDTh"
      }
    },
    {
      "cell_type": "code",
      "source": [
        "!pip install kaggle \n",
        "!mkdir ~/.kaggle\n",
        "%cd /content\n",
        "!cp kaggle.json ~/.kaggle/\n",
        "!chmod 600 ~/.kaggle/kaggle.json"
      ],
      "metadata": {
        "id": "87eI7L24BDpw",
        "outputId": "52b494a5-c351-4131-d8fb-5843dccc8e54",
        "colab": {
          "base_uri": "https://localhost:8080/"
        }
      },
      "execution_count": null,
      "outputs": [
        {
          "output_type": "stream",
          "name": "stdout",
          "text": [
            "Requirement already satisfied: kaggle in /usr/local/lib/python3.7/dist-packages (1.5.12)\n",
            "Requirement already satisfied: python-dateutil in /usr/local/lib/python3.7/dist-packages (from kaggle) (2.8.2)\n",
            "Requirement already satisfied: certifi in /usr/local/lib/python3.7/dist-packages (from kaggle) (2021.10.8)\n",
            "Requirement already satisfied: six>=1.10 in /usr/local/lib/python3.7/dist-packages (from kaggle) (1.15.0)\n",
            "Requirement already satisfied: tqdm in /usr/local/lib/python3.7/dist-packages (from kaggle) (4.63.0)\n",
            "Requirement already satisfied: requests in /usr/local/lib/python3.7/dist-packages (from kaggle) (2.23.0)\n",
            "Requirement already satisfied: python-slugify in /usr/local/lib/python3.7/dist-packages (from kaggle) (6.1.1)\n",
            "Requirement already satisfied: urllib3 in /usr/local/lib/python3.7/dist-packages (from kaggle) (1.24.3)\n",
            "Requirement already satisfied: text-unidecode>=1.3 in /usr/local/lib/python3.7/dist-packages (from python-slugify->kaggle) (1.3)\n",
            "Requirement already satisfied: idna<3,>=2.5 in /usr/local/lib/python3.7/dist-packages (from requests->kaggle) (2.10)\n",
            "Requirement already satisfied: chardet<4,>=3.0.2 in /usr/local/lib/python3.7/dist-packages (from requests->kaggle) (3.0.4)\n",
            "mkdir: cannot create directory ‘/root/.kaggle’: File exists\n",
            "/content\n"
          ]
        }
      ]
    },
    {
      "cell_type": "markdown",
      "source": [
        "## 0.3 Tải bất kì bộ dữ liệu nào"
      ],
      "metadata": {
        "id": "-detoAkfBbbI"
      }
    },
    {
      "cell_type": "markdown",
      "source": [
        "Giả sử bạn muốn tải dữ liệu từ: https://www.kaggle.com/datasets/harlfoxem/housesalesprediction"
      ],
      "metadata": {
        "id": "wfxLxG9SEW4V"
      }
    },
    {
      "cell_type": "code",
      "source": [
        "### Cú pháp kaggle datasets download -d user/dataset_name -p ./folder_output/\n",
        "!kaggle datasets download -d harlfoxem/housesalesprediction"
      ],
      "metadata": {
        "colab": {
          "base_uri": "https://localhost:8080/"
        },
        "id": "XR4ZdRIOBkfP",
        "outputId": "f3d23c70-5f8c-4a00-e543-e24056e4e490"
      },
      "execution_count": null,
      "outputs": [
        {
          "output_type": "stream",
          "name": "stdout",
          "text": [
            "Downloading housesalesprediction.zip to /content\n",
            "\r  0% 0.00/780k [00:00<?, ?B/s]\n",
            "\r100% 780k/780k [00:00<00:00, 112MB/s]\n"
          ]
        }
      ]
    },
    {
      "cell_type": "code",
      "source": [
        "!unzip housesalesprediction.zip"
      ],
      "metadata": {
        "colab": {
          "base_uri": "https://localhost:8080/"
        },
        "id": "Nr1K3gNDEkat",
        "outputId": "cba9ffda-ed54-451a-d123-d45ff4134b5d"
      },
      "execution_count": null,
      "outputs": [
        {
          "output_type": "stream",
          "name": "stdout",
          "text": [
            "Archive:  housesalesprediction.zip\n",
            "  inflating: kc_house_data.csv       \n"
          ]
        }
      ]
    },
    {
      "cell_type": "markdown",
      "source": [
        "# 1. Bài tập linear regression với đa biến"
      ],
      "metadata": {
        "id": "6TPLLkrsk1v1"
      }
    },
    {
      "cell_type": "code",
      "source": [
        "import pandas as pd\n",
        "import torch\n",
        "\n",
        "### Đọc dữ liệu huấn luyện\n",
        "df_train = pd.read_csv('/content/kc_house_data.csv')"
      ],
      "metadata": {
        "id": "B6DOxYpvE78U"
      },
      "execution_count": null,
      "outputs": []
    },
    {
      "cell_type": "code",
      "source": [
        "df_train.isnull().values.any()"
      ],
      "metadata": {
        "colab": {
          "base_uri": "https://localhost:8080/"
        },
        "id": "Ipve-g8iaU-h",
        "outputId": "a1182ae9-7b32-4ef0-9eb2-f2e21a54a792"
      },
      "execution_count": null,
      "outputs": [
        {
          "output_type": "execute_result",
          "data": {
            "text/plain": [
              "False"
            ]
          },
          "metadata": {},
          "execution_count": 6
        }
      ]
    },
    {
      "cell_type": "markdown",
      "source": [
        "Các thông tin như về id sẽ không được quan trọng trong Linear Regression"
      ],
      "metadata": {
        "id": "kAkqkQ0GFzId"
      }
    },
    {
      "cell_type": "code",
      "source": [
        "### Mặc định hàm drop sẽ bỏ hàng hoặc cho axis = 0, và các bạn cho index vào để bỏ hàng\n",
        "### Ở đây axis = 1 tượng trưng cho cột, \n",
        "\n",
        "### Hàm drop ko thực sự thao tác trên dữ liệu của chúng ta\n",
        "### Nên ta cần gán dữ ngược lại cho df_train\n",
        "### Ngoài ra để rút gọn dấu bằng ta có thể thay \n",
        "### parameter inplace = True (rất hay gặp tại các hàm thao tác trên dữ liệu trong pandas)\n",
        "### https://pandas.pydata.org/docs/reference/api/pandas.DataFrame.drop.html\n",
        "df_train = df_train.drop([\"id\"] , axis = 1) "
      ],
      "metadata": {
        "id": "IoEJ2td_FyQK"
      },
      "execution_count": null,
      "outputs": []
    },
    {
      "cell_type": "code",
      "source": [
        "### Ví dụ bỏ hàng \n",
        "# df_train.head().drop([1,2,3], axis = 0)\n"
      ],
      "metadata": {
        "id": "XhCaAd-wGXv6"
      },
      "execution_count": null,
      "outputs": []
    },
    {
      "cell_type": "markdown",
      "source": [
        "Ngoài ra, giá của một ngôi nhà có thể không phụ thuộc vào vĩ độ (latitude) và kinh độ (longtitude) và zipcode"
      ],
      "metadata": {
        "id": "eNRFh9KrIXzI"
      }
    },
    {
      "cell_type": "code",
      "source": [
        "df_train = df_train.drop([\"date\",\"lat\",\"long\",\"zipcode\"] , axis = 1) "
      ],
      "metadata": {
        "id": "9pqW8T-ZJOL-"
      },
      "execution_count": null,
      "outputs": []
    },
    {
      "cell_type": "code",
      "source": [
        "df_train.head()"
      ],
      "metadata": {
        "colab": {
          "base_uri": "https://localhost:8080/",
          "height": 206
        },
        "id": "I5Hn0rSWV2j8",
        "outputId": "ad9e8167-5950-4b29-e0a5-6300e9124403"
      },
      "execution_count": null,
      "outputs": [
        {
          "output_type": "execute_result",
          "data": {
            "text/plain": [
              "      price  bedrooms  bathrooms  sqft_living  sqft_lot  floors  waterfront  \\\n",
              "0  221900.0         3       1.00         1180      5650     1.0           0   \n",
              "1  538000.0         3       2.25         2570      7242     2.0           0   \n",
              "2  180000.0         2       1.00          770     10000     1.0           0   \n",
              "3  604000.0         4       3.00         1960      5000     1.0           0   \n",
              "4  510000.0         3       2.00         1680      8080     1.0           0   \n",
              "\n",
              "   view  condition  grade  sqft_above  sqft_basement  yr_built  yr_renovated  \\\n",
              "0     0          3      7        1180              0      1955             0   \n",
              "1     0          3      7        2170            400      1951          1991   \n",
              "2     0          3      6         770              0      1933             0   \n",
              "3     0          5      7        1050            910      1965             0   \n",
              "4     0          3      8        1680              0      1987             0   \n",
              "\n",
              "   sqft_living15  sqft_lot15  \n",
              "0           1340        5650  \n",
              "1           1690        7639  \n",
              "2           2720        8062  \n",
              "3           1360        5000  \n",
              "4           1800        7503  "
            ],
            "text/html": [
              "\n",
              "  <div id=\"df-debadcda-874e-4e25-a6da-a546f9c95258\">\n",
              "    <div class=\"colab-df-container\">\n",
              "      <div>\n",
              "<style scoped>\n",
              "    .dataframe tbody tr th:only-of-type {\n",
              "        vertical-align: middle;\n",
              "    }\n",
              "\n",
              "    .dataframe tbody tr th {\n",
              "        vertical-align: top;\n",
              "    }\n",
              "\n",
              "    .dataframe thead th {\n",
              "        text-align: right;\n",
              "    }\n",
              "</style>\n",
              "<table border=\"1\" class=\"dataframe\">\n",
              "  <thead>\n",
              "    <tr style=\"text-align: right;\">\n",
              "      <th></th>\n",
              "      <th>price</th>\n",
              "      <th>bedrooms</th>\n",
              "      <th>bathrooms</th>\n",
              "      <th>sqft_living</th>\n",
              "      <th>sqft_lot</th>\n",
              "      <th>floors</th>\n",
              "      <th>waterfront</th>\n",
              "      <th>view</th>\n",
              "      <th>condition</th>\n",
              "      <th>grade</th>\n",
              "      <th>sqft_above</th>\n",
              "      <th>sqft_basement</th>\n",
              "      <th>yr_built</th>\n",
              "      <th>yr_renovated</th>\n",
              "      <th>sqft_living15</th>\n",
              "      <th>sqft_lot15</th>\n",
              "    </tr>\n",
              "  </thead>\n",
              "  <tbody>\n",
              "    <tr>\n",
              "      <th>0</th>\n",
              "      <td>221900.0</td>\n",
              "      <td>3</td>\n",
              "      <td>1.00</td>\n",
              "      <td>1180</td>\n",
              "      <td>5650</td>\n",
              "      <td>1.0</td>\n",
              "      <td>0</td>\n",
              "      <td>0</td>\n",
              "      <td>3</td>\n",
              "      <td>7</td>\n",
              "      <td>1180</td>\n",
              "      <td>0</td>\n",
              "      <td>1955</td>\n",
              "      <td>0</td>\n",
              "      <td>1340</td>\n",
              "      <td>5650</td>\n",
              "    </tr>\n",
              "    <tr>\n",
              "      <th>1</th>\n",
              "      <td>538000.0</td>\n",
              "      <td>3</td>\n",
              "      <td>2.25</td>\n",
              "      <td>2570</td>\n",
              "      <td>7242</td>\n",
              "      <td>2.0</td>\n",
              "      <td>0</td>\n",
              "      <td>0</td>\n",
              "      <td>3</td>\n",
              "      <td>7</td>\n",
              "      <td>2170</td>\n",
              "      <td>400</td>\n",
              "      <td>1951</td>\n",
              "      <td>1991</td>\n",
              "      <td>1690</td>\n",
              "      <td>7639</td>\n",
              "    </tr>\n",
              "    <tr>\n",
              "      <th>2</th>\n",
              "      <td>180000.0</td>\n",
              "      <td>2</td>\n",
              "      <td>1.00</td>\n",
              "      <td>770</td>\n",
              "      <td>10000</td>\n",
              "      <td>1.0</td>\n",
              "      <td>0</td>\n",
              "      <td>0</td>\n",
              "      <td>3</td>\n",
              "      <td>6</td>\n",
              "      <td>770</td>\n",
              "      <td>0</td>\n",
              "      <td>1933</td>\n",
              "      <td>0</td>\n",
              "      <td>2720</td>\n",
              "      <td>8062</td>\n",
              "    </tr>\n",
              "    <tr>\n",
              "      <th>3</th>\n",
              "      <td>604000.0</td>\n",
              "      <td>4</td>\n",
              "      <td>3.00</td>\n",
              "      <td>1960</td>\n",
              "      <td>5000</td>\n",
              "      <td>1.0</td>\n",
              "      <td>0</td>\n",
              "      <td>0</td>\n",
              "      <td>5</td>\n",
              "      <td>7</td>\n",
              "      <td>1050</td>\n",
              "      <td>910</td>\n",
              "      <td>1965</td>\n",
              "      <td>0</td>\n",
              "      <td>1360</td>\n",
              "      <td>5000</td>\n",
              "    </tr>\n",
              "    <tr>\n",
              "      <th>4</th>\n",
              "      <td>510000.0</td>\n",
              "      <td>3</td>\n",
              "      <td>2.00</td>\n",
              "      <td>1680</td>\n",
              "      <td>8080</td>\n",
              "      <td>1.0</td>\n",
              "      <td>0</td>\n",
              "      <td>0</td>\n",
              "      <td>3</td>\n",
              "      <td>8</td>\n",
              "      <td>1680</td>\n",
              "      <td>0</td>\n",
              "      <td>1987</td>\n",
              "      <td>0</td>\n",
              "      <td>1800</td>\n",
              "      <td>7503</td>\n",
              "    </tr>\n",
              "  </tbody>\n",
              "</table>\n",
              "</div>\n",
              "      <button class=\"colab-df-convert\" onclick=\"convertToInteractive('df-debadcda-874e-4e25-a6da-a546f9c95258')\"\n",
              "              title=\"Convert this dataframe to an interactive table.\"\n",
              "              style=\"display:none;\">\n",
              "        \n",
              "  <svg xmlns=\"http://www.w3.org/2000/svg\" height=\"24px\"viewBox=\"0 0 24 24\"\n",
              "       width=\"24px\">\n",
              "    <path d=\"M0 0h24v24H0V0z\" fill=\"none\"/>\n",
              "    <path d=\"M18.56 5.44l.94 2.06.94-2.06 2.06-.94-2.06-.94-.94-2.06-.94 2.06-2.06.94zm-11 1L8.5 8.5l.94-2.06 2.06-.94-2.06-.94L8.5 2.5l-.94 2.06-2.06.94zm10 10l.94 2.06.94-2.06 2.06-.94-2.06-.94-.94-2.06-.94 2.06-2.06.94z\"/><path d=\"M17.41 7.96l-1.37-1.37c-.4-.4-.92-.59-1.43-.59-.52 0-1.04.2-1.43.59L10.3 9.45l-7.72 7.72c-.78.78-.78 2.05 0 2.83L4 21.41c.39.39.9.59 1.41.59.51 0 1.02-.2 1.41-.59l7.78-7.78 2.81-2.81c.8-.78.8-2.07 0-2.86zM5.41 20L4 18.59l7.72-7.72 1.47 1.35L5.41 20z\"/>\n",
              "  </svg>\n",
              "      </button>\n",
              "      \n",
              "  <style>\n",
              "    .colab-df-container {\n",
              "      display:flex;\n",
              "      flex-wrap:wrap;\n",
              "      gap: 12px;\n",
              "    }\n",
              "\n",
              "    .colab-df-convert {\n",
              "      background-color: #E8F0FE;\n",
              "      border: none;\n",
              "      border-radius: 50%;\n",
              "      cursor: pointer;\n",
              "      display: none;\n",
              "      fill: #1967D2;\n",
              "      height: 32px;\n",
              "      padding: 0 0 0 0;\n",
              "      width: 32px;\n",
              "    }\n",
              "\n",
              "    .colab-df-convert:hover {\n",
              "      background-color: #E2EBFA;\n",
              "      box-shadow: 0px 1px 2px rgba(60, 64, 67, 0.3), 0px 1px 3px 1px rgba(60, 64, 67, 0.15);\n",
              "      fill: #174EA6;\n",
              "    }\n",
              "\n",
              "    [theme=dark] .colab-df-convert {\n",
              "      background-color: #3B4455;\n",
              "      fill: #D2E3FC;\n",
              "    }\n",
              "\n",
              "    [theme=dark] .colab-df-convert:hover {\n",
              "      background-color: #434B5C;\n",
              "      box-shadow: 0px 1px 3px 1px rgba(0, 0, 0, 0.15);\n",
              "      filter: drop-shadow(0px 1px 2px rgba(0, 0, 0, 0.3));\n",
              "      fill: #FFFFFF;\n",
              "    }\n",
              "  </style>\n",
              "\n",
              "      <script>\n",
              "        const buttonEl =\n",
              "          document.querySelector('#df-debadcda-874e-4e25-a6da-a546f9c95258 button.colab-df-convert');\n",
              "        buttonEl.style.display =\n",
              "          google.colab.kernel.accessAllowed ? 'block' : 'none';\n",
              "\n",
              "        async function convertToInteractive(key) {\n",
              "          const element = document.querySelector('#df-debadcda-874e-4e25-a6da-a546f9c95258');\n",
              "          const dataTable =\n",
              "            await google.colab.kernel.invokeFunction('convertToInteractive',\n",
              "                                                     [key], {});\n",
              "          if (!dataTable) return;\n",
              "\n",
              "          const docLinkHtml = 'Like what you see? Visit the ' +\n",
              "            '<a target=\"_blank\" href=https://colab.research.google.com/notebooks/data_table.ipynb>data table notebook</a>'\n",
              "            + ' to learn more about interactive tables.';\n",
              "          element.innerHTML = '';\n",
              "          dataTable['output_type'] = 'display_data';\n",
              "          await google.colab.output.renderOutput(dataTable, element);\n",
              "          const docLink = document.createElement('div');\n",
              "          docLink.innerHTML = docLinkHtml;\n",
              "          element.appendChild(docLink);\n",
              "        }\n",
              "      </script>\n",
              "    </div>\n",
              "  </div>\n",
              "  "
            ]
          },
          "metadata": {},
          "execution_count": 9
        }
      ]
    },
    {
      "cell_type": "code",
      "source": [
        "from sklearn import preprocessing\n",
        "import numpy as np\n",
        "from sklearn.model_selection import train_test_split\n",
        "\n",
        "#### Ở đây nếu không dùng scaler thì tí nữa loss sẽ ra Nan, các bạn có thể thử không dùng\n",
        "#### và kiểm nghiệm lại\n",
        "\n",
        "scaler = preprocessing.StandardScaler().fit(df_train)\n",
        "\n",
        "data_numpy = scaler.transform(df_train)\n",
        "\n",
        "#### Chia train test, nhưng thực ra là có dữ liệu để kiểm nghiệm cho nên mình gọi là val luôn\n",
        "train, val = train_test_split(data_numpy,test_size = 0.2)\n",
        "\n",
        "feature_names = df_train.columns\n",
        "\n",
        "train_np = torch.tensor(train)\n",
        "\n",
        "X_train = train_np[:,feature_names != \"price\"]\n",
        "y_train = train_np[:,feature_names == \"price\"]\n",
        "\n",
        "val_np = torch.tensor(val)\n",
        "\n",
        "X_val = val_np[:,feature_names != \"price\"]\n",
        "y_val = val_np[:,feature_names == \"price\"]"
      ],
      "metadata": {
        "id": "IlQs1KCDao4c"
      },
      "execution_count": null,
      "outputs": []
    },
    {
      "cell_type": "code",
      "source": [
        "#### Tạo ma trận W và bias b\n",
        "#### Để dự đoán kết quả \n",
        "W = torch.tensor( torch.rand(X_train.shape[1],1), requires_grad= True)\n",
        "b = torch.tensor( torch.rand(1,), requires_grad= True)"
      ],
      "metadata": {
        "colab": {
          "base_uri": "https://localhost:8080/"
        },
        "id": "hke8Nb820Esi",
        "outputId": "38791037-8352-4cd7-e497-f9280dff1409"
      },
      "execution_count": null,
      "outputs": [
        {
          "output_type": "stream",
          "name": "stderr",
          "text": [
            "/usr/local/lib/python3.7/dist-packages/ipykernel_launcher.py:3: UserWarning: To copy construct from a tensor, it is recommended to use sourceTensor.clone().detach() or sourceTensor.clone().detach().requires_grad_(True), rather than torch.tensor(sourceTensor).\n",
            "  This is separate from the ipykernel package so we can avoid doing imports until\n",
            "/usr/local/lib/python3.7/dist-packages/ipykernel_launcher.py:4: UserWarning: To copy construct from a tensor, it is recommended to use sourceTensor.clone().detach() or sourceTensor.clone().detach().requires_grad_(True), rather than torch.tensor(sourceTensor).\n",
            "  after removing the cwd from sys.path.\n"
          ]
        }
      ]
    },
    {
      "cell_type": "code",
      "source": [
        ""
      ],
      "metadata": {
        "id": "gM0czLCJ5THG"
      },
      "execution_count": null,
      "outputs": []
    },
    {
      "cell_type": "code",
      "source": [
        "index = torch.randperm(100)\n",
        "\n",
        "##### dự đoán 32 mẫu giá nhà, kết quả phải có shape là [32,15]\n",
        "y_predict = X_train[index[0:32],:] @ W.double() + b.double()\n",
        "assert list(y_predict.shape) == [32,1], \"Not matching shape\"\n",
        "\n",
        "##### dự đoán 64 mẫu giá nhà, kết quả phải có shape là [64,15]\n",
        "y_predict = X_train[index[0:64],:] @ W.double() + b.double()\n",
        "assert list(y_predict.shape) == [64,1], \"Not matching shape\"\n",
        "\n",
        "diff = y_predict - y_train[index[0:64],:]\n",
        "assert list(diff.shape) == [64,1], \"Not matching shape\"\n",
        "loss = torch.sum(diff*diff)/(2*diff.numel()) \n",
        "loss"
      ],
      "metadata": {
        "id": "kFH28mtO8J6A",
        "colab": {
          "base_uri": "https://localhost:8080/"
        },
        "outputId": "2b5312b1-2f7a-4751-df60-335205081d25"
      },
      "execution_count": null,
      "outputs": [
        {
          "output_type": "execute_result",
          "data": {
            "text/plain": [
              "tensor(8.0765, dtype=torch.float64, grad_fn=<DivBackward0>)"
            ]
          },
          "metadata": {},
          "execution_count": 12
        }
      ]
    },
    {
      "cell_type": "code",
      "source": [
        "X_train.shape"
      ],
      "metadata": {
        "colab": {
          "base_uri": "https://localhost:8080/"
        },
        "id": "3jNcedmEWY3f",
        "outputId": "f3b9d48c-914f-4419-f123-1f9c6cb66a6f"
      },
      "execution_count": null,
      "outputs": [
        {
          "output_type": "execute_result",
          "data": {
            "text/plain": [
              "torch.Size([17290, 15])"
            ]
          },
          "metadata": {},
          "execution_count": 13
        }
      ]
    },
    {
      "cell_type": "code",
      "source": [
        "import pandas as pd\n",
        "import torch\n",
        "\n",
        "### Đọc dữ liệu huấn luyện\n",
        "df_train = pd.read_csv('/content/kc_house_data.csv')\n",
        "df_train = df_train.drop([\"id\"] , axis = 1) \n",
        "\n",
        "df_train = df_train.drop([\"date\",\"lat\",\"long\",\"zipcode\"] , axis = 1) \n",
        "from sklearn import preprocessing\n",
        "import numpy as np\n",
        "from sklearn.model_selection import train_test_split\n",
        "\n",
        "\n",
        "scaler = preprocessing.StandardScaler().fit(df_train)\n",
        "\n",
        "data_numpy = scaler.transform(df_train)\n",
        "\n",
        "#### seed thường thấy trong numpy, pytorch, tensorflow, ...\n",
        "#### Hàm này giúp mỗi lần thực hiện lần sau, bộ dữ liệu sẽ không đổi khi split\n",
        "#### Giúp kết quả không phụ thuộc vào cách chia dữ liệu\n",
        "#### mà là ở bộ trọng số, các hyperparameter khác nhau \n",
        "torch.manual_seed(42)\n",
        "\n",
        "train, val = train_test_split(data_numpy,test_size = 0.2)\n",
        "\n",
        "feature_names = df_train.columns\n",
        "\n",
        "train_np = torch.tensor(train)\n",
        "\n",
        "X_train = train_np[:,feature_names != \"price\"]\n",
        "y_train = train_np[:,feature_names == \"price\"]\n",
        "\n",
        "val_np = torch.tensor(val)\n",
        "\n",
        "X_val = val_np[:,feature_names != \"price\"]\n",
        "y_val = val_np[:,feature_names == \"price\"]"
      ],
      "metadata": {
        "id": "PhYaL4vUe2U9"
      },
      "execution_count": null,
      "outputs": []
    },
    {
      "cell_type": "code",
      "source": [
        "W = torch.tensor( torch.rand(X_train.shape[1],1), requires_grad= True)\n",
        "b = torch.tensor( torch.rand(1,), requires_grad= True)\n",
        "\n",
        "variable_list = [W,b]\n",
        "# for var in variable_list:\n",
        "#   var.required_grad\n",
        "\n",
        "number_of_epochs = 20\n",
        "batch_size = 32\n",
        "learning_rate = 1e-2\n",
        "\n",
        "\n",
        "num_of_samples = X_train.shape[0]\n",
        "shuffle_indices = torch.randperm(num_of_samples)\n",
        "\n",
        "val_every = 5\n",
        "\n",
        "for epoch in range(number_of_epochs):\n",
        "  #### Train loop\n",
        "\n",
        "  for k in (0,num_of_samples//batch_size):  \n",
        "    index = shuffle_indices[k*batch_size:(k+1)*batch_size]\n",
        "    \n",
        "    ### Tính toán y pred : X W + b\n",
        "    batch_X_train   = X_train[index,:]\n",
        "    batch_y_true    = y_train[index,:]\n",
        "\n",
        "    ############# Code tại đây #############\n",
        "    batch_y_predict = batch_X_train @ W.double() + b.double()\n",
        "    ########################################\n",
        "    \n",
        "    diff = batch_y_predict - batch_y_true\n",
        "\n",
        "    ############# Code tại đây #############\n",
        "    ### loss = tổng(diff ^ 2) / số mẫu lấy ra \n",
        "    loss = torch.sum(diff**2) / (2*batch_size)\n",
        "    ########################################\n",
        "    \n",
        "    loss.backward()\n",
        "    with torch.no_grad():\n",
        "      W -= learning_rate*W.grad\n",
        "      b -= learning_rate*b.grad\n",
        "      W.grad.zero_()\n",
        "      b.grad.zero_()\n",
        "  #### Print loss\n",
        "  print(\"Train loss {:.6f} at epoch {}\".format(loss,epoch))\n",
        "  #### Kiểm tra loss khi thực hiện dự đoán trên tập val mỗi 5 epoch train\n",
        "  if epoch % val_every == 0:\n",
        "    ### Val loop\n",
        "    ### Lúc val ta không cần tính đạo hàm, vì thế cần tắt grad của các biến \n",
        "    W.required_grad = False\n",
        "    b.required_grad = False\n",
        "    val_loss = []\n",
        "    val_shuffle_indices = torch.randperm(X_val.shape[0])\n",
        "\n",
        "    for k in range(0,X_val.shape[0]//batch_size): \n",
        "      index = val_shuffle_indices[k*batch_size:(k+1)*batch_size]\n",
        "\n",
        "      ### Tương tự ### Tính toán y pred : X W + b\n",
        "      batch_X_val     = X_val[index,:]\n",
        "      batch_y_true    = y_val[index,:]\n",
        "\n",
        "      ############# Code tại đây #############\n",
        "      batch_y_predict = batch_X_val @ W.double() + b.double()\n",
        "      ########################################\n",
        "\n",
        "      diff = batch_y_predict - batch_y_true\n",
        "\n",
        "      ############# Code tại đây #############\n",
        "      ### loss = tổng(diff ^ 2) / số mẫu lấy ra \n",
        "      loss = torch.sum(diff**2) / (2*batch_size)\n",
        "      ########################################\n",
        "      val_loss.append(loss)\n",
        "    val_loss_avg = torch.tensor(val_loss).sum()\n",
        "    val_loss_avg = val_loss_avg / len(val_loss)\n",
        "    print(\"Average val loss {:.6f} at epoch {}\".format(val_loss_avg,epoch))\n",
        "\n",
        "    ### Sau đó, ta cần mở lại cho việc huấn luyện bằng cách\n",
        "    W.required_grad = True\n",
        "    b.required_grad = True"
      ],
      "metadata": {
        "id": "CjPmT9PKnPRD",
        "colab": {
          "base_uri": "https://localhost:8080/"
        },
        "outputId": "5bec306b-c658-486e-8751-344261588982"
      },
      "execution_count": null,
      "outputs": [
        {
          "output_type": "stream",
          "name": "stdout",
          "text": [
            "Train loss 10.187377 at epoch 0\n",
            "Average val loss 6.828555 at epoch 0\n",
            "Train loss 8.583275 at epoch 1\n",
            "Train loss 7.244691 at epoch 2\n",
            "Train loss 6.126875 at epoch 3\n",
            "Train loss 5.192682 at epoch 4\n",
            "Train loss 4.411271 at epoch 5\n",
            "Average val loss 3.444369 at epoch 5\n",
            "Train loss 3.757033 at epoch 6\n",
            "Train loss 3.208697 at epoch 7\n",
            "Train loss 2.748590 at epoch 8\n",
            "Train loss 2.362029 at epoch 9\n",
            "Train loss 2.036807 at epoch 10\n",
            "Average val loss 2.038270 at epoch 10\n",
            "Train loss 1.762778 at epoch 11\n",
            "Train loss 1.531501 at epoch 12\n",
            "Train loss 1.335955 at epoch 13\n",
            "Train loss 1.170295 at epoch 14\n",
            "Train loss 1.029655 at epoch 15\n",
            "Average val loss 1.421110 at epoch 15\n",
            "Train loss 0.909984 at epoch 16\n",
            "Train loss 0.807902 at epoch 17\n",
            "Train loss 0.720593 at epoch 18\n",
            "Train loss 0.645708 at epoch 19\n"
          ]
        },
        {
          "output_type": "stream",
          "name": "stderr",
          "text": [
            "/usr/local/lib/python3.7/dist-packages/ipykernel_launcher.py:1: UserWarning: To copy construct from a tensor, it is recommended to use sourceTensor.clone().detach() or sourceTensor.clone().detach().requires_grad_(True), rather than torch.tensor(sourceTensor).\n",
            "  \"\"\"Entry point for launching an IPython kernel.\n",
            "/usr/local/lib/python3.7/dist-packages/ipykernel_launcher.py:2: UserWarning: To copy construct from a tensor, it is recommended to use sourceTensor.clone().detach() or sourceTensor.clone().detach().requires_grad_(True), rather than torch.tensor(sourceTensor).\n",
            "  \n"
          ]
        }
      ]
    },
    {
      "cell_type": "code",
      "source": [
        ""
      ],
      "metadata": {
        "id": "tPAPH638mrVZ"
      },
      "execution_count": null,
      "outputs": []
    }
  ],
  "metadata": {
    "accelerator": "GPU",
    "colab": {
      "name": "Copy of Linear_Regression_bt.ipynb",
      "provenance": [],
      "collapsed_sections": [],
      "include_colab_link": true
    },
    "kernelspec": {
      "display_name": "Python 3",
      "name": "python3"
    },
    "language_info": {
      "name": "python"
    }
  },
  "nbformat": 4,
  "nbformat_minor": 0
}