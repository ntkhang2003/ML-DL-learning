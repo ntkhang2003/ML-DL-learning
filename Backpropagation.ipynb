{
  "nbformat": 4,
  "nbformat_minor": 0,
  "metadata": {
    "colab": {
      "name": "Backpropagation.ipynb",
      "provenance": [],
      "authorship_tag": "ABX9TyPC3LZC8aa8wqIKg2C/z5Gm",
      "include_colab_link": true
    },
    "kernelspec": {
      "name": "python3",
      "display_name": "Python 3"
    },
    "language_info": {
      "name": "python"
    }
  },
  "cells": [
    {
      "cell_type": "markdown",
      "metadata": {
        "id": "view-in-github",
        "colab_type": "text"
      },
      "source": [
        "<a href=\"https://colab.research.google.com/github/ntkhang2003/ML-DL-learning/blob/main/Backpropagation.ipynb\" target=\"_parent\"><img src=\"https://colab.research.google.com/assets/colab-badge.svg\" alt=\"Open In Colab\"/></a>"
      ]
    },
    {
      "cell_type": "code",
      "execution_count": 1,
      "metadata": {
        "id": "WOBhL6JXUGQ-"
      },
      "outputs": [],
      "source": [
        "import numpy as np\n",
        "import pandas as pd"
      ]
    },
    {
      "cell_type": "code",
      "source": [
        "def sigmoid(x):\n",
        "  return 1 / (1 + np.exp(-x))\n",
        "def sigmoid_derivative(x):\n",
        "  return x * (1 - x)"
      ],
      "metadata": {
        "id": "EhqR18TwU676"
      },
      "execution_count": 3,
      "outputs": []
    },
    {
      "cell_type": "code",
      "source": [
        "class NeuralNetwork:\n",
        "  def __init__(self, layers, alpha=0.1):\n",
        "    self.layers = layers\n",
        "    self.alpha = alpha\n",
        "    self.W = []\n",
        "    self.b = []\n",
        "\n",
        "    for i in range(0, len(layers)-1):\n",
        "      w_ = np.random.randn(layers[i], layers[i+1])\n",
        "      b_ = np.zeros((layers[i+1], i))\n",
        "      self.W.append(w_/layers[i])\n",
        "      self.b.append(b_)\n",
        "  # Tóm tắt mô hình neural network\n",
        "  def __repr__(self):\n",
        "    return \"Neural network [{}]\".format(\"-\".join(str(l) for l in self.layers))\n",
        "  # Train mô hình với dữ liệu\n",
        "  def fit_partial(self, x, y):\n",
        "    A = [x]\n",
        "\n",
        "    # quá trình feedforward\n",
        "    out = A[-1]\n",
        "    for i in range(0, len(self.layers) - 1):\n",
        "      out = sigmoid(np.dot(out, self.W[i]) + (self.b[i].T))\n",
        "      A.append(out)\n",
        "  \n",
        "    # quá trình backpropagation\n",
        "    y = y.reshape(-1,1)\n",
        "    dA = [-(y/A[-1] - (1-y)/(1-A[-1]))]\n",
        "    dW = []\n",
        "    db = []\n",
        "    for i in reversed(range(0, len(self.layers)-1)):\n",
        "      dw_ = np.dot(A[i].T, dA[-1] * sigmoid_derivative(A[i+1]))\n",
        "      db_ = (np.sum(dA[-1] * sigmoid_derivative(A[i+1]), 0)).reshape(-1,1)\n",
        "      dA_ = np.dot(dA[-1] * sigmoid_derivative(A[i+1]), self.W[i].T)\n",
        "      dW.append(dw_)\n",
        "      db.append(db_)\n",
        "      dA.append(dA_)\n",
        "    \n",
        "    # Đảo ngược dW, db\n",
        "    dW = dW[::-1]\n",
        "    db = db[::-1]\n",
        "\n",
        "    # Gradient descent\n",
        "    for i in range(0, len(self.layers)-1):\n",
        "      self.W[i] -= self.alpha * dW[i]\n",
        "      self.b[i] -= self.alpha * db[i]\n",
        "    \n",
        "    def fit(self, X, y, epochs=20, verbose=10):\n",
        "      for epoch in range(epochs):\n",
        "        self.fit_partial(X, y)\n",
        "        if epoch % verbose == 0:\n",
        "          loss = self.calculate_loss(X, y)\n",
        "          print(\"Epoch {}, loss {}\".format(epoch, loss))\n",
        "    \n",
        "    #Dự đoán\n",
        "    def predict(self, X):\n",
        "      for i in range(0, len(self.layers)-1):\n",
        "        X = sigmoid(np.dot(X, self(self.W[i])) + (self.b[i].T))\n",
        "      return X\n",
        "    \n",
        "    #Tính loss function\n",
        "    def calculate_loss(self, X, y):\n",
        "      y_predict = self.predict(X)\n",
        "      return -(np.sum(y*np.log(y_predict) + (1-y)*np.log(1-y_predict))) "
      ],
      "metadata": {
        "id": "2KFwkxk2VSPy"
      },
      "execution_count": 12,
      "outputs": []
    },
    {
      "cell_type": "code",
      "source": [
        "data = pd.read_csv('https://raw.githubusercontent.com/nttuan8/DL_Tutorial/master/L4/dataset.csv').values\n",
        "N, d = data.shape\n",
        "X = data[:, 0:d-1].reshape(-1, d-1)\n",
        "y = data[:, 2].reshape(-1, 1)\n",
        "\n",
        "p = NeuralNetwork([X.shape[1], 2, 1], 0.1)\n",
        "p.fit(X, y, 10000, 100)"
      ],
      "metadata": {
        "colab": {
          "base_uri": "https://localhost:8080/"
        },
        "id": "tWRR_npohG3j",
        "outputId": "d1181fb1-206c-4fcb-b7f0-d740083d75be"
      },
      "execution_count": 16,
      "outputs": [
        {
          "output_type": "stream",
          "name": "stdout",
          "text": [
            "Epoch 0, loss 13.918929219710837\n",
            "Epoch 100, loss 9.860804857125057\n",
            "Epoch 200, loss 8.76845469493986\n",
            "Epoch 300, loss 8.696733272171334\n",
            "Epoch 400, loss 9.396993491601702\n",
            "Epoch 500, loss 7.885506393297663\n",
            "Epoch 600, loss 6.9663808374568905\n",
            "Epoch 700, loss 11.708359453883382\n",
            "Epoch 800, loss 8.44026845503099\n",
            "Epoch 900, loss 7.5102116492596425\n",
            "Epoch 1000, loss 11.959143207402317\n",
            "Epoch 1100, loss 0.5784142008547152\n",
            "Epoch 1200, loss 0.2791392070604972\n",
            "Epoch 1300, loss 0.18399450348636354\n",
            "Epoch 1400, loss 0.1371039206087921\n",
            "Epoch 1500, loss 0.10923005289993094\n",
            "Epoch 1600, loss 0.0907666233999389\n",
            "Epoch 1700, loss 0.07764017522114981\n",
            "Epoch 1800, loss 0.06783030692989402\n",
            "Epoch 1900, loss 0.06022160653814235\n",
            "Epoch 2000, loss 0.054148190164697456\n",
            "Epoch 2100, loss 0.04918805779731317\n",
            "Epoch 2200, loss 0.04506084119956953\n",
            "Epoch 2300, loss 0.04157300223940222\n",
            "Epoch 2400, loss 0.03858664251463801\n",
            "Epoch 2500, loss 0.036000853567100026\n",
            "Epoch 2600, loss 0.03374009576716577\n",
            "Epoch 2700, loss 0.03174669862759289\n",
            "Epoch 2800, loss 0.029975872713086903\n",
            "Epoch 2900, loss 0.02839230385994936\n",
            "Epoch 3000, loss 0.02696777359411414\n",
            "Epoch 3100, loss 0.02567946230008752\n",
            "Epoch 3200, loss 0.024508717050235128\n",
            "Epoch 3300, loss 0.023440142137867007\n",
            "Epoch 3400, loss 0.022460917844483713\n",
            "Epoch 3500, loss 0.021560283306398434\n",
            "Epoch 3600, loss 0.020729139146238414\n",
            "Epoch 3700, loss 0.01995973871411638\n",
            "Epoch 3800, loss 0.019245445713221402\n",
            "Epoch 3900, loss 0.01858054213479826\n",
            "Epoch 4000, loss 0.017960074727186616\n",
            "Epoch 4100, loss 0.017379731271381576\n",
            "Epoch 4200, loss 0.0168357401237714\n",
            "Epoch 4300, loss 0.016324788076460203\n",
            "Epoch 4400, loss 0.0158439527534084\n",
            "Epoch 4500, loss 0.015390646627328981\n",
            "Epoch 4600, loss 0.01496257039177767\n",
            "Epoch 4700, loss 0.014557673913977146\n",
            "Epoch 4800, loss 0.014174123368412828\n",
            "Epoch 4900, loss 0.013810273439110577\n",
            "Epoch 5000, loss 0.013464643701464994\n",
            "Epoch 5100, loss 0.013135898468362118\n",
            "Epoch 5200, loss 0.012822829521911014\n",
            "Epoch 5300, loss 0.012524341259976127\n",
            "Epoch 5400, loss 0.012239437872523476\n",
            "Epoch 5500, loss 0.011967212231336602\n",
            "Epoch 5600, loss 0.011706836231857773\n",
            "Epoch 5700, loss 0.011457552370423328\n",
            "Epoch 5800, loss 0.011218666376385453\n",
            "Epoch 5900, loss 0.010989540748127085\n",
            "Epoch 6000, loss 0.010769589066185038\n",
            "Epoch 6100, loss 0.010558270976622193\n",
            "Epoch 6200, loss 0.010355087754259735\n",
            "Epoch 6300, loss 0.010159578369051382\n",
            "Epoch 6400, loss 0.009971315990257414\n",
            "Epoch 6500, loss 0.009789904872607183\n",
            "Epoch 6600, loss 0.00961497757662879\n",
            "Epoch 6700, loss 0.009446192482024903\n",
            "Epoch 6800, loss 0.00928323155869246\n",
            "Epoch 6900, loss 0.009125798364746928\n",
            "Epoch 7000, loss 0.008973616245044159\n",
            "Epoch 7100, loss 0.008826426707153546\n",
            "Epoch 7200, loss 0.008683987954709186\n",
            "Epoch 7300, loss 0.008546073560641736\n",
            "Epoch 7400, loss 0.008412471264956114\n",
            "Epoch 7500, loss 0.008282981883634083\n",
            "Epoch 7600, loss 0.008157418316852514\n",
            "Epoch 7700, loss 0.008035604646133843\n",
            "Epoch 7800, loss 0.00791737531125605\n",
            "Epoch 7900, loss 0.007802574358822275\n",
            "Epoch 8000, loss 0.007691054755316151\n",
            "Epoch 8100, loss 0.007582677758276328\n",
            "Epoch 8200, loss 0.007477312339934927\n",
            "Epoch 8300, loss 0.0073748346582756235\n",
            "Epoch 8400, loss 0.007275127571033231\n",
            "Epoch 8500, loss 0.007178080188608897\n",
            "Epoch 8600, loss 0.007083587462322708\n",
            "Epoch 8700, loss 0.00699154980478086\n",
            "Epoch 8800, loss 0.006901872739478793\n",
            "Epoch 8900, loss 0.006814466577037393\n",
            "Epoch 9000, loss 0.006729246115749483\n",
            "Epoch 9100, loss 0.006646130364330599\n",
            "Epoch 9200, loss 0.006565042284969934\n",
            "Epoch 9300, loss 0.006485908554976234\n",
            "Epoch 9400, loss 0.0064086593454665275\n",
            "Epoch 9500, loss 0.00633322811568518\n",
            "Epoch 9600, loss 0.006259551421690868\n",
            "Epoch 9700, loss 0.006187568738243809\n",
            "Epoch 9800, loss 0.0061172222928515966\n",
            "Epoch 9900, loss 0.006048456911008709\n"
          ]
        }
      ]
    }
  ]
}